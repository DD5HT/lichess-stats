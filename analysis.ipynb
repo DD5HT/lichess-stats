{
 "metadata": {
  "language_info": {
   "codemirror_mode": {
    "name": "ipython",
    "version": 3
   },
   "file_extension": ".py",
   "mimetype": "text/x-python",
   "name": "python",
   "nbconvert_exporter": "python",
   "pygments_lexer": "ipython3",
   "version": "3.8.5-final"
  },
  "orig_nbformat": 2,
  "kernelspec": {
   "name": "python3",
   "display_name": "Python 3.8.5 64-bit (conda)",
   "metadata": {
    "interpreter": {
     "hash": "c838765beb6297c2a88ef85a145b5d203e47182d2ac2ed02acc9f3a446a17e7c"
    }
   }
  }
 },
 "nbformat": 4,
 "nbformat_minor": 2,
 "cells": [
  {
   "cell_type": "code",
   "execution_count": null,
   "metadata": {},
   "outputs": [],
   "source": [
    "import pandas as pd\n",
    "import lichess.api\n",
    "from lichess.format import SINGLE_PGN\n",
    "import altair as alt\n",
    "from sklearn.linear_model import LinearRegression, LogisticRegression"
   ]
  },
  {
   "cell_type": "code",
   "execution_count": null,
   "metadata": {},
   "outputs": [],
   "source": [
    "USERNAME = \"unwrap\"\n",
    "SPEED = \"blitz\"\n",
    "VARIANT = \"standard\""
   ]
  },
  {
   "cell_type": "code",
   "execution_count": null,
   "metadata": {
    "tags": []
   },
   "outputs": [],
   "source": [
    "def create_game_stats(games):\n",
    "    rating = []\n",
    "    timestamp = []\n",
    "    status = []\n",
    "    color = []\n",
    "    winner = []\n",
    "    all_stats = set()\n",
    "    for game in games:\n",
    "        if game[\"speed\"] == SPEED and game[\"rated\"] == True and game[\"variant\"] == VARIANT:\n",
    "            player = game[\"players\"][\"white\"][\"user\"][\"name\"]\n",
    "            if player == USERNAME:\n",
    "                rating.append(game[\"players\"][\"white\"][\"rating\"])\n",
    "                color.append(\"white\")\n",
    "            else:\n",
    "                rating.append(game[\"players\"][\"black\"][\"rating\"])\n",
    "                color.append(\"black\")\n",
    "            timestamp.append(game[\"createdAt\"])\n",
    "            game_status = game[\"status\"] \n",
    "            all_stats.add(game_status)\n",
    "            status.append(game_status)\n",
    "            if game_status == \"outoftime\":\n",
    "                winner.append(color[-1])\n",
    "            elif game_status != \"draw\" and game_status != \"stalemate\" and game_status != \"timeout\":\n",
    "                try:\n",
    "                    winner.append(game[\"winner\"])\n",
    "                except:\n",
    "                    print(game)\n",
    "            else:\n",
    "                winner.append(None)\n",
    "\n",
    "    df = pd.DataFrame(dict(rating=rating, timestamp=timestamp, status=status, color=color, winner=winner))"
   ]
  },
  {
   "cell_type": "code",
   "execution_count": null,
   "metadata": {},
   "outputs": [],
   "source": [
    "def enrich_df(df):\n",
    "    df[\"win\"] = df[\"color\"] == df[\"winner\"]\n",
    "    df['date'] =  pd.to_datetime(df['timestamp'], unit=\"ms\")\n",
    "    df['day'] = df['date'].dt.day\n",
    "    df['month'] = df['date'].dt.month\n",
    "    df['year'] = df['date'].dt.year\n",
    "    game_count_df = df.groupby([\"year\", \"month\", \"day\"]).count().reset_index()[[\"year\", \"month\", \"day\", \"rating\",]].rename(columns={\"rating\": \"game_count\"})\n",
    "    win_count_df  = df.groupby([\"year\", \"month\", \"day\"]).sum().reset_index()[[\"year\", \"month\", \"day\", \"win\",]].rename(columns={\"win\": \"total_wins\"})\n",
    "    df = pd.merge(df, game_count_df, on=[\"year\", \"month\", \"day\"], how=\"left\")\n",
    "    df = pd.merge(df, win_count_df, on=[\"year\", \"month\", \"day\"], how=\"left\")\n",
    "    return df"
   ]
  },
  {
   "cell_type": "code",
   "execution_count": null,
   "metadata": {},
   "outputs": [],
   "source": [
    "def predict_rating(df):\n",
    "    Y = df.iloc[:, 0].values.reshape(-1, 1)\n",
    "    X = df.iloc[:, 1].values.reshape(-1, 1)\n",
    "    linear_regressor = LinearRegression() # create object for the class\n",
    "    linear_regressor.fit(X, Y)  # perform linear regression\n",
    "    Y_pred = linear_regressor.predict(X)  # make predictions\n",
    "    print(f\"Linear Regression R^2: {linear_regressor.score(X,Y)}\")\n",
    "    df[\"rating_prediction\"] = Y_pred\n",
    "    return df"
   ]
  },
  {
   "cell_type": "code",
   "execution_count": null,
   "metadata": {},
   "outputs": [],
   "source": [
    "games = list(lichess.api.user_games(USERNAME, max=10000))"
   ]
  },
  {
   "cell_type": "code",
   "execution_count": null,
   "metadata": {},
   "outputs": [],
   "source": [
    "df = create_game_stats(games)\n",
    "df = df.iloc[:-20] # Remove the first 20 games\n",
    "df = enrich_df(df)\n",
    "df = predict_rating(df)\n",
    "df.tail()"
   ]
  },
  {
   "cell_type": "code",
   "execution_count": null,
   "metadata": {},
   "outputs": [],
   "source": [
    "chart = alt.Chart(df).mark_area(\n",
    "    color=\"lightblue\",\n",
    "    interpolate='step-after',\n",
    "    line=True\n",
    ").encode(x='timestamp:T', y='rating').mark_area(opacity=0.6)\n",
    "\n",
    "chart_line = alt.Chart(df).mark_line(\n",
    "    color=\"red\",\n",
    "    line=True\n",
    ").encode(x='timestamp:T',y=\"rating_prediction\")"
   ]
  },
  {
   "cell_type": "code",
   "execution_count": null,
   "metadata": {},
   "outputs": [],
   "source": [
    "game_count_chart = alt.Chart(df).mark_bar().encode(\n",
    "    x=\"date\",\n",
    "    y=\"game_count\",\n",
    "    color=alt.value(\"#DC143C\"),\n",
    ").properties(width=1200, height=100)\n",
    "win_count_chart = alt.Chart(df).mark_bar().encode(\n",
    "    x=\"date\",\n",
    "    y=\"total_wins\",\n",
    "    color=alt.value(\"#228B22\"),\n",
    ").properties(width=1200, height=100)"
   ]
  },
  {
   "cell_type": "code",
   "execution_count": null,
   "metadata": {},
   "outputs": [],
   "source": [
    "out = chart + chart_line\n",
    "out.properties(width=1200, height=400) & game_count_chart + win_count_chart"
   ]
  },
  {
   "cell_type": "code",
   "execution_count": null,
   "metadata": {},
   "outputs": [],
   "source": [
    "df"
   ]
  },
  {
   "cell_type": "code",
   "execution_count": null,
   "metadata": {},
   "outputs": [],
   "source": []
  }
 ]
}